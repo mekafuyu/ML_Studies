{
 "cells": [
  {
   "cell_type": "code",
   "execution_count": 2,
   "metadata": {},
   "outputs": [
    {
     "name": "stdout",
     "output_type": "stream",
     "text": [
      "Requirement already satisfied: pandas in c:\\users\\maycon\\appdata\\local\\programs\\python\\python312\\lib\\site-packages (2.2.1)\n",
      "Requirement already satisfied: numpy<2,>=1.26.0 in c:\\users\\maycon\\appdata\\local\\programs\\python\\python312\\lib\\site-packages (from pandas) (1.26.4)\n",
      "Requirement already satisfied: python-dateutil>=2.8.2 in c:\\users\\maycon\\appdata\\roaming\\python\\python312\\site-packages (from pandas) (2.9.0.post0)\n",
      "Requirement already satisfied: pytz>=2020.1 in c:\\users\\maycon\\appdata\\local\\programs\\python\\python312\\lib\\site-packages (from pandas) (2024.1)\n",
      "Requirement already satisfied: tzdata>=2022.7 in c:\\users\\maycon\\appdata\\local\\programs\\python\\python312\\lib\\site-packages (from pandas) (2024.1)\n",
      "Requirement already satisfied: six>=1.5 in c:\\users\\maycon\\appdata\\roaming\\python\\python312\\site-packages (from python-dateutil>=2.8.2->pandas) (1.16.0)\n",
      "Note: you may need to restart the kernel to use updated packages.\n"
     ]
    },
    {
     "name": "stderr",
     "output_type": "stream",
     "text": [
      "\n",
      "[notice] A new release of pip is available: 23.2.1 -> 24.0\n",
      "[notice] To update, run: python.exe -m pip install --upgrade pip\n"
     ]
    },
    {
     "name": "stdout",
     "output_type": "stream",
     "text": [
      "Requirement already satisfied: scikit.learn in c:\\users\\maycon\\appdata\\local\\programs\\python\\python312\\lib\\site-packages (1.4.1.post1)\n",
      "Requirement already satisfied: numpy<2.0,>=1.19.5 in c:\\users\\maycon\\appdata\\local\\programs\\python\\python312\\lib\\site-packages (from scikit.learn) (1.26.4)\n",
      "Requirement already satisfied: scipy>=1.6.0 in c:\\users\\maycon\\appdata\\local\\programs\\python\\python312\\lib\\site-packages (from scikit.learn) (1.12.0)\n",
      "Requirement already satisfied: joblib>=1.2.0 in c:\\users\\maycon\\appdata\\local\\programs\\python\\python312\\lib\\site-packages (from scikit.learn) (1.3.2)\n",
      "Requirement already satisfied: threadpoolctl>=2.0.0 in c:\\users\\maycon\\appdata\\local\\programs\\python\\python312\\lib\\site-packages (from scikit.learn) (3.4.0)\n",
      "Note: you may need to restart the kernel to use updated packages.\n"
     ]
    },
    {
     "name": "stderr",
     "output_type": "stream",
     "text": [
      "\n",
      "[notice] A new release of pip is available: 23.2.1 -> 24.0\n",
      "[notice] To update, run: python.exe -m pip install --upgrade pip\n"
     ]
    },
    {
     "name": "stdout",
     "output_type": "stream",
     "text": [
      "Requirement already satisfied: joblib in c:\\users\\maycon\\appdata\\local\\programs\\python\\python312\\lib\\site-packages (1.3.2)\n",
      "Note: you may need to restart the kernel to use updated packages.\n"
     ]
    },
    {
     "name": "stderr",
     "output_type": "stream",
     "text": [
      "\n",
      "[notice] A new release of pip is available: 23.2.1 -> 24.0\n",
      "[notice] To update, run: python.exe -m pip install --upgrade pip\n"
     ]
    },
    {
     "name": "stdout",
     "output_type": "stream",
     "text": [
      "Collecting matplotlib\n",
      "  Obtaining dependency information for matplotlib from https://files.pythonhosted.org/packages/50/ce/a6bc93f7a44dd1fd23698698e369e141f4f24e7098d0a5937808afee3f5e/matplotlib-3.8.3-cp312-cp312-win_amd64.whl.metadata\n",
      "  Downloading matplotlib-3.8.3-cp312-cp312-win_amd64.whl.metadata (5.9 kB)\n",
      "Collecting contourpy>=1.0.1 (from matplotlib)\n",
      "  Obtaining dependency information for contourpy>=1.0.1 from https://files.pythonhosted.org/packages/8e/ae/a6353db548bff1a592b85ae6bb80275f0a51dc25a0410d059e5b33183e36/contourpy-1.2.0-cp312-cp312-win_amd64.whl.metadata\n",
      "  Downloading contourpy-1.2.0-cp312-cp312-win_amd64.whl.metadata (5.8 kB)\n",
      "Collecting cycler>=0.10 (from matplotlib)\n",
      "  Obtaining dependency information for cycler>=0.10 from https://files.pythonhosted.org/packages/e7/05/c19819d5e3d95294a6f5947fb9b9629efb316b96de511b418c53d245aae6/cycler-0.12.1-py3-none-any.whl.metadata\n",
      "  Downloading cycler-0.12.1-py3-none-any.whl.metadata (3.8 kB)\n",
      "Collecting fonttools>=4.22.0 (from matplotlib)\n",
      "  Obtaining dependency information for fonttools>=4.22.0 from https://files.pythonhosted.org/packages/80/87/a0fc2a2cddd9a4dfd7d9efa182b26d61f97398ac12eb5a8bd255184d85f3/fonttools-4.50.0-cp312-cp312-win_amd64.whl.metadata\n",
      "  Downloading fonttools-4.50.0-cp312-cp312-win_amd64.whl.metadata (162 kB)\n",
      "     ---------------------------------------- 0.0/162.6 kB ? eta -:--:--\n",
      "     -------------------------- ----------- 112.6/162.6 kB 3.2 MB/s eta 0:00:01\n",
      "     -------------------------------------- 162.6/162.6 kB 3.2 MB/s eta 0:00:00\n",
      "Collecting kiwisolver>=1.3.1 (from matplotlib)\n",
      "  Obtaining dependency information for kiwisolver>=1.3.1 from https://files.pythonhosted.org/packages/63/50/2746566bdf4a6a842d117367d05c90cfb87ac04e9e2845aa1fa21f071362/kiwisolver-1.4.5-cp312-cp312-win_amd64.whl.metadata\n",
      "  Downloading kiwisolver-1.4.5-cp312-cp312-win_amd64.whl.metadata (6.5 kB)\n",
      "Requirement already satisfied: numpy<2,>=1.21 in c:\\users\\maycon\\appdata\\local\\programs\\python\\python312\\lib\\site-packages (from matplotlib) (1.26.4)\n",
      "Requirement already satisfied: packaging>=20.0 in c:\\users\\maycon\\appdata\\roaming\\python\\python312\\site-packages (from matplotlib) (24.0)\n",
      "Requirement already satisfied: pillow>=8 in c:\\users\\maycon\\appdata\\local\\programs\\python\\python312\\lib\\site-packages (from matplotlib) (10.1.0)\n",
      "Collecting pyparsing>=2.3.1 (from matplotlib)\n",
      "  Obtaining dependency information for pyparsing>=2.3.1 from https://files.pythonhosted.org/packages/9d/ea/6d76df31432a0e6fdf81681a895f009a4bb47b3c39036db3e1b528191d52/pyparsing-3.1.2-py3-none-any.whl.metadata\n",
      "  Downloading pyparsing-3.1.2-py3-none-any.whl.metadata (5.1 kB)\n",
      "Requirement already satisfied: python-dateutil>=2.7 in c:\\users\\maycon\\appdata\\roaming\\python\\python312\\site-packages (from matplotlib) (2.9.0.post0)\n",
      "Requirement already satisfied: six>=1.5 in c:\\users\\maycon\\appdata\\roaming\\python\\python312\\site-packages (from python-dateutil>=2.7->matplotlib) (1.16.0)\n",
      "Downloading matplotlib-3.8.3-cp312-cp312-win_amd64.whl (7.6 MB)\n",
      "   ---------------------------------------- 0.0/7.6 MB ? eta -:--:--\n",
      "   ---------- ----------------------------- 2.1/7.6 MB 67.1 MB/s eta 0:00:01\n",
      "   -------------------------- ------------- 5.0/7.6 MB 64.6 MB/s eta 0:00:01\n",
      "   ---------------------------------------- 7.6/7.6 MB 61.1 MB/s eta 0:00:00\n",
      "Downloading contourpy-1.2.0-cp312-cp312-win_amd64.whl (187 kB)\n",
      "   ---------------------------------------- 0.0/187.7 kB ? eta -:--:--\n",
      "   ---------------------------------------- 187.7/187.7 kB ? eta 0:00:00\n",
      "Downloading cycler-0.12.1-py3-none-any.whl (8.3 kB)\n",
      "Downloading fonttools-4.50.0-cp312-cp312-win_amd64.whl (2.2 MB)\n",
      "   ---------------------------------------- 0.0/2.2 MB ? eta -:--:--\n",
      "   ---------------------------------------- 2.2/2.2 MB 69.7 MB/s eta 0:00:00\n",
      "Downloading kiwisolver-1.4.5-cp312-cp312-win_amd64.whl (56 kB)\n",
      "   ---------------------------------------- 0.0/56.0 kB ? eta -:--:--\n",
      "   ---------------------------------------- 56.0/56.0 kB ? eta 0:00:00\n",
      "Downloading pyparsing-3.1.2-py3-none-any.whl (103 kB)\n",
      "   ---------------------------------------- 0.0/103.2 kB ? eta -:--:--\n",
      "   ---------------------------------------- 103.2/103.2 kB ? eta 0:00:00\n",
      "Installing collected packages: pyparsing, kiwisolver, fonttools, cycler, contourpy, matplotlib\n",
      "Successfully installed contourpy-1.2.0 cycler-0.12.1 fonttools-4.50.0 kiwisolver-1.4.5 matplotlib-3.8.3 pyparsing-3.1.2\n",
      "Note: you may need to restart the kernel to use updated packages.\n"
     ]
    },
    {
     "name": "stderr",
     "output_type": "stream",
     "text": [
      "\n",
      "[notice] A new release of pip is available: 23.2.1 -> 24.0\n",
      "[notice] To update, run: python.exe -m pip install --upgrade pip\n"
     ]
    }
   ],
   "source": [
    "%pip install pandas\n",
    "%pip install scikit.learn\n",
    "%pip install joblib\n",
    "%pip install matplotlib"
   ]
  },
  {
   "cell_type": "code",
   "execution_count": 6,
   "metadata": {},
   "outputs": [],
   "source": [
    "import pandas as pd\n",
    "from joblib import dump\n",
    "import matplotlib.pyplot as plt\n",
    "import numpy as np\n",
    "\n",
    "from sklearn.decomposition import PCA\n",
    "from sklearn.model_selection import train_test_split, GridSearchCV, cross_val_score\n",
    "from sklearn.ensemble import RandomForestRegressor\n",
    "from sklearn.metrics import accuracy_score, ConfusionMatrixDisplay, mean_absolute_error\n",
    "from sklearn import preprocessing as pre"
   ]
  },
  {
   "cell_type": "code",
   "execution_count": 4,
   "metadata": {},
   "outputs": [
    {
     "name": "stdout",
     "output_type": "stream",
     "text": [
      "       carat  cut  color  clarity  depth  table  price     x     y     z\n",
      "0       0.23    4      5        1   61.5   55.0    326  3.95  3.98  2.43\n",
      "1       0.21    3      5        2   59.8   61.0    326  3.89  3.84  2.31\n",
      "2       0.23    1      5        4   56.9   65.0    327  4.05  4.07  2.31\n",
      "3       0.29    3      1        3   62.4   58.0    334  4.20  4.23  2.63\n",
      "4       0.31    1      0        1   63.3   58.0    335  4.34  4.35  2.75\n",
      "...      ...  ...    ...      ...    ...    ...    ...   ...   ...   ...\n",
      "53935   0.72    4      6        2   60.8   57.0   2757  5.75  5.76  3.50\n",
      "53936   0.72    1      6        2   63.1   55.0   2757  5.69  5.75  3.61\n",
      "53937   0.70    2      6        2   62.8   60.0   2757  5.66  5.68  3.56\n",
      "53938   0.86    3      2        1   61.0   58.0   2757  6.15  6.12  3.74\n",
      "53939   0.75    4      6        1   62.2   55.0   2757  5.83  5.87  3.64\n",
      "\n",
      "[53940 rows x 10 columns]\n"
     ]
    },
    {
     "name": "stderr",
     "output_type": "stream",
     "text": [
      "C:\\Users\\Maycon\\AppData\\Local\\Temp\\ipykernel_11620\\2726379533.py:32: FutureWarning: Downcasting behavior in `replace` is deprecated and will be removed in a future version. To retain the old behavior, explicitly call `result.infer_objects(copy=False)`. To opt-in to the future behavior, set `pd.set_option('future.no_silent_downcasting', True)`\n",
      "  df = df.replace(cut_dict).replace(color_dict).replace(clarity_dict)\n"
     ]
    }
   ],
   "source": [
    "df = pd.read_csv('./diamonds.csv')\n",
    "df.drop(columns=df.columns[0], axis=1, inplace=True)\n",
    "\n",
    "cut_dict = {\n",
    "  \"Fair\" : 0,\n",
    "  \"Good\" : 1,\n",
    "  \"Very Good\" : 2,\n",
    "  \"Premium\" : 3,\n",
    "  \"Ideal\" : 4\n",
    "}\n",
    "\n",
    "color_dict = {\n",
    "  \"D\" : 6,\n",
    "  \"E\" : 5,\n",
    "  \"F\" : 4,\n",
    "  \"G\" : 3,\n",
    "  \"H\" : 2,\n",
    "  \"I\" : 1,\n",
    "  \"J\" : 0\n",
    "}\n",
    "\n",
    "clarity_dict = {\n",
    "  \"I1\" : 0,\n",
    "  \"SI2\" : 1,\n",
    "  \"SI1\" : 2,\n",
    "  \"VS2\" : 3,\n",
    "  \"VS1\" : 4,\n",
    "  \"VVS2\" : 5,\n",
    "  \"VVS1\" : 6,\n",
    "  \"IF\" : 7\n",
    "}\n",
    "\n",
    "df = df.replace(cut_dict).replace(color_dict).replace(clarity_dict)\n",
    "print(df)"
   ]
  },
  {
   "cell_type": "code",
   "execution_count": 30,
   "metadata": {},
   "outputs": [
    {
     "name": "stdout",
     "output_type": "stream",
     "text": [
      "[[0.50234847]\n",
      " [0.4894513 ]\n",
      " [0.50337642]\n",
      " ...\n",
      " [0.51150716]\n",
      " [0.50750253]\n",
      " [0.50267415]]\n",
      "262.7483554306862\n"
     ]
    },
    {
     "data": {
      "image/png": "[encoded data removed]",
      "text/plain": [
       "<Figure size 640x480 with 1 Axes>"
      ]
     },
     "metadata": {},
     "output_type": "display_data"
    }
   ],
   "source": [
    "Y = df['price']\n",
    "X = df.drop('price', axis = 1)\n",
    "\n",
    "# scores = cross_val_score(RandomForestRegressor(n_jobs=-1), X, Y, cv = 8)\n",
    "\n",
    "# print(scores)\n",
    "# pca = PCA(n_components = 8)\n",
    "# pca.fit(X)\n",
    "# X = pca.transform(X)\n",
    "\n",
    "X_train, X_test, Y_train, Y_test = train_test_split(X, Y, test_size=0.15, random_state=42)\n",
    "\n",
    "model = RandomForestRegressor(n_jobs=-1)\n",
    "# model = GridSearchCV(\n",
    "#   RandomForestRegressor(),\n",
    "#   {\n",
    "#     'criterion' : [ 'gini', 'entropy' ],\n",
    "#     'min_samples_split' : range(2, 20)\n",
    "#   },\n",
    "#   n_jobs = -1\n",
    "# )\n",
    "\n",
    "model.fit(X_train, Y_train)\n",
    "# print(model.best_params_)\n",
    "# model = model.best_estimator_\n",
    "dump(model, 'model_random_forest.pkl')\n",
    "\n",
    "# predictions = model.predict(X_train)\n",
    "# print(mean_absolute_error(Y_train, predictions))\n",
    "# ConfusionMatrixDisplay.from_predictions(Y_train, predictions)\n",
    "# plt.show()\n",
    "\n",
    "# predictions = model.predict(X_test)\n",
    "# print(mean_absolute_error(Y_test, predictions))\n",
    "# ConfusionMatrixDisplay.from_predictions(Y_test, predictions)\n",
    "# plt.show()\n",
    "\n",
    "Y_pred = model.predict(X_test)\n",
    "distances = np.array([ti - pi for ti, pi in zip(Y_test, Y_pred)])\n",
    "distances = distances.reshape(-1, 1)\n",
    "distances = pre.MinMaxScaler().fit_transform(distances)\n",
    "print(distances)\n",
    "\n",
    "print(mean_absolute_error(Y_test, Y_pred))\n",
    "plt.scatter(Y_test, Y_pred, s=0.5)\n",
    "# plt.scatter(Y_test, Y_pred)\n",
    "# plt.plot(Y_pred)\n",
    "plt.show()"
   ]
  }
 ],
 "metadata": {
  "kernelspec": {
   "display_name": "Python 3",
   "language": "python",
   "name": "python3"
  },
  "language_info": {
   "codemirror_mode": {
    "name": "ipython",
    "version": 3
   },
   "file_extension": ".py",
   "mimetype": "text/x-python",
   "name": "python",
   "nbconvert_exporter": "python",
   "pygments_lexer": "ipython3",
   "version": "3.12.1"
  }
 },
 "nbformat": 4,
 "nbformat_minor": 2
}
